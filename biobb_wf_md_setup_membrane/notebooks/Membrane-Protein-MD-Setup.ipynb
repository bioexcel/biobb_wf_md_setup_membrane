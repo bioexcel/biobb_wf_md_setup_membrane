{
 "cells": [
  {
   "cell_type": "markdown",
   "metadata": {},
   "source": [
    "# Membrane-Protein MD Setup Jupyter Notebook with BioBB Example\n",
    "\n",
    "## Using prepared systems from MemProtMD (http://memprotmd.bioch.ox.ac.uk/)\n",
    "\n",
    "**MemProtMD is a database of around 3500 intrinsic membrane protein structures identified in the Protein Data Bank, inserted into simulated lipid bilayers using Coarse-Grained Self Assembly Molecular Dynamics simulations.**\n",
    "\n",
    "*Newport, Thomas D. et al. The MemProtMD database: a resource for membrane-embedded protein structures and their lipid interactions. Nucleic Acids Research, Volume 47, Issue D1, 08 January 2019, Pages D390–D397, https://doi.org/10.1093/nar/gky1047*\n",
    "\n",
    "***\n",
    "\n",
    "## Settings\n",
    "\n",
    "### Biobb modules used\n",
    "\n",
    "* [biobb_io](https://github.com/bioexcel/biobb_io): Tools to fetch biomolecular data from public databases.\n",
    "* [biobb_md](https://github.com/bioexcel/biobb_md): Tools to setup and run Molecular Dynamics simulations.\n",
    "* [biobb_analysis](https://github.com/bioexcel/biobb_analysis): Tools to analyse Molecular Dynamics trajectories.\n",
    " \n",
    "### Auxiliar libraries used\n",
    "\n",
    "* [nb_conda_kernels](https://github.com/Anaconda-Platform/nb_conda_kernels): Enables a Jupyter Notebook or JupyterLab application in one conda environment to access kernels for Python, R, and other languages found in other environments.\n",
    "* [nglview](http://nglviewer.org/#nglview): Jupyter/IPython widget to interactively view molecular structures and trajectories in notebooks.\n",
    "* [ipywidgets](https://github.com/jupyter-widgets/ipywidgets): Interactive HTML widgets for Jupyter notebooks and the IPython kernel.\n",
    "* [os](https://docs.python.org/3/library/os.html): Python miscellaneous operating system interfaces\n",
    "* [plotly](https://plot.ly/python/offline/): Python interactive graphing library integrated in Jupyter notebooks.\n",
    "* [simpletraj](https://github.com/arose/simpletraj): Lightweight coordinate-only trajectory reader based on code from GROMACS, MDAnalysis and VMD.\n",
    "\n",
    "### Conda Installation and Launch\n",
    "\n",
    "```console\n",
    "git clone https://github.com/bioexcel/biobb_wf_md_setup_membrane.git\n",
    "cd biobb_wf_md_setup_membrane\n",
    "conda env create -f conda_env/environment.yml\n",
    "conda activate biobb_MDsetup_Membrane_tutorial\n",
    "jupyter-nbextension enable --py --user widgetsnbextension\n",
    "jupyter-nbextension enable --py --user nglview\n",
    "jupyter-notebook biobb_wf_md_setup_membrane/notebooks/Membrane-Protein-MD-Setup.ipynb\n",
    "```\n",
    "\n",
    "***\n",
    "## Pipeline steps\n",
    " 1. [Select the membrane-protein complex](#select)\n",
    " 2. [Download system](#download)\n",
    " 3. [Preparing files](#prep)\n",
    " 4. [Energetically minimize the system](#min)\n",
    " 5. [Equilibrate the system (NPT)](#npt)\n",
    " 6. [Production Molecular Dynamics Simulation](#prod)\n",
    " 7. [Post-processing and Visualizing Resulting 3D Trajectory](#post)\n",
    " 8. [Output Files](#output)\n",
    " 9. [Questions & Comments](#questions)\n",
    " \n",
    "***\n",
    "<img src=\"https://bioexcel.eu/wp-content/uploads/2019/04/Bioexcell_logo_1080px_transp.png\" alt=\"Bioexcel2 logo\"\n",
    "\ttitle=\"Bioexcel2 logo\" width=\"400\" />\n",
    "***"
   ]
  },
  {
   "cell_type": "markdown",
   "metadata": {},
   "source": [
    "<a id=\"select\"></a>\n",
    "## Select the membrane-protein complex "
   ]
  },
  {
   "cell_type": "code",
   "execution_count": null,
   "metadata": {},
   "outputs": [],
   "source": [
    "import json\n",
    "import os\n",
    "import pathlib\n",
    "import zipfile\n",
    "import nglview\n",
    "\n",
    "WORKDIR = pathlib.Path.cwd()"
   ]
  },
  {
   "cell_type": "code",
   "execution_count": null,
   "metadata": {},
   "outputs": [],
   "source": [
    "# TO REMOVE!!!!!!\n",
    "#WORKDIR = '/YOUR/WORKING/DIR'\n",
    "#os.chdir(WORKDIR)\n",
    "#print(os.getcwd())"
   ]
  },
  {
   "cell_type": "markdown",
   "metadata": {},
   "source": [
    "### Full list\n",
    "\n",
    "#### Getting full list of simulations\n",
    "\n",
    "**Using MemProtMD REST API to download membrane-proteins prepared systems to start a MD simulation.**\n",
    "\n",
    "**Example 1:** Getting the **full list of prepared systems** from the **MemProtMD database**."
   ]
  },
  {
   "cell_type": "code",
   "execution_count": null,
   "metadata": {},
   "outputs": [],
   "source": [
    "from biobb_io.api.memprotmd_sim_list import memprotmd_sim_list\n",
    "\n",
    "# Create prop dict and inputs/outputs\n",
    "simulations_list = 'simulations_list.json'\n",
    "\n",
    "# Create and launch bb\n",
    "memprotmd_sim_list(output_simulations=simulations_list)"
   ]
  },
  {
   "cell_type": "markdown",
   "metadata": {},
   "source": [
    "#### Select the membrane-protein complex from the list of available systems \n",
    "\n",
    "**Select one** of the available systems from the list and **jump to the [\"Download System\" cell](#Download-system).**"
   ]
  },
  {
   "cell_type": "code",
   "execution_count": null,
   "metadata": {},
   "outputs": [],
   "source": [
    "import ipywidgets as widgets\n",
    "\n",
    "# parse simulations_list file\n",
    "with open(simulations_list) as json_file:\n",
    "    listJson = json.load(json_file)\n",
    "    listMDs = []\n",
    "    for sim in listJson:\n",
    "        listMDs.append(sim['_id'])\n",
    "        \n",
    "# show dropdown with simulations_list file content\n",
    "mdsel = widgets.Dropdown(\n",
    "    options=listMDs,\n",
    "    description='MDs:',\n",
    "    disabled=False,\n",
    ")\n",
    "display(mdsel)"
   ]
  },
  {
   "cell_type": "markdown",
   "metadata": {},
   "source": [
    "### Particular family\n",
    "\n",
    "#### Getting particular family of simulations\n",
    "\n",
    "**Using MemProtMD REST API to download membrane-proteins prepared systems to start a MD simulation.**\n",
    "\n",
    "**Example 2:** Getting a **list of prepared systems** for a **particular family** (e.g. GPCRs, porins) from the **MemProtMD database**."
   ]
  },
  {
   "cell_type": "code",
   "execution_count": null,
   "metadata": {},
   "outputs": [],
   "source": [
    "from biobb_io.api.memprotmd_sim_search import memprotmd_sim_search\n",
    "\n",
    "# Create prop dict and inputs/outputs\n",
    "simulations_search = 'simulations_search.json'\n",
    "\n",
    "prop = {\n",
    "    'collection_name': 'refs',\n",
    "    'keyword': 'gpcr'\n",
    "}\n",
    "\n",
    "# Create and launch bb\n",
    "memprotmd_sim_search(output_simulations=simulations_search,\n",
    "                  properties=prop)"
   ]
  },
  {
   "cell_type": "markdown",
   "metadata": {},
   "source": [
    "#### Select the membrane-protein complex from the list of available systems \n",
    "\n",
    "**Select one** of the available systems from the list and **jump to the [\"Download System\" cell](#Download-system).**"
   ]
  },
  {
   "cell_type": "code",
   "execution_count": null,
   "metadata": {},
   "outputs": [],
   "source": [
    "import ipywidgets as widgets\n",
    "\n",
    "# parse simulations_list file\n",
    "with open(simulations_search) as json_file:\n",
    "    listJson = json.load(json_file)\n",
    "    listGPCRs = []\n",
    "    for sim in listJson:\n",
    "        listGPCRs.append(sim['simulations'][0])\n",
    "        \n",
    "# show dropdown with simulations_list file content\n",
    "mdsel = widgets.Dropdown(\n",
    "    options=listGPCRs,\n",
    "    description='GPCRs:',\n",
    "    disabled=False,\n",
    ")\n",
    "display(mdsel)\n",
    "\n",
    "##############################\n",
    "##############################\n",
    "# @Adam: try with 2i37\n",
    "##############################\n",
    "##############################\n"
   ]
  },
  {
   "cell_type": "markdown",
   "metadata": {},
   "source": [
    "***\n",
    "<a id=\"download\"></a>\n",
    "## Download system\n",
    "\n",
    "Download the **membrane-protein system** and associated **GROMACS files** needed to run the **MD setup** from the **MemProtMD REST API**, using the system we **previously selected**."
   ]
  },
  {
   "cell_type": "code",
   "execution_count": null,
   "metadata": {},
   "outputs": [],
   "source": [
    "pdbCode = mdsel.value[:4]\n",
    "\n",
    "from biobb_io.api.memprotmd_sim import memprotmd_sim\n",
    "\n",
    "# Create prop dict and inputs/outputs\n",
    "simulation = 'simulation.zip'\n",
    "\n",
    "prop = {\n",
    "    'pdb_code': pdbCode\n",
    "}\n",
    "\n",
    "# Create and launch bb\n",
    "memprotmd_sim(output_simulation=simulation,\n",
    "                  properties=prop)"
   ]
  },
  {
   "cell_type": "markdown",
   "metadata": {},
   "source": [
    "Create a folder where to unzip the content of simulation."
   ]
  },
  {
   "cell_type": "code",
   "execution_count": null,
   "metadata": {},
   "outputs": [],
   "source": [
    "# create folder simulation\n",
    "if not pathlib.Path(pdbCode).exists():\n",
    "    pathlib.Path(pdbCode).mkdir()\n",
    "    \n",
    "# extract simulation into simulation folder\n",
    "os.chdir(pdbCode)\n",
    "sim_path = pathlib.PurePosixPath(WORKDIR).joinpath(simulation)\n",
    "\n",
    "with zipfile.ZipFile(sim_path, 'r') as zip_f:\n",
    "    zip_f.extractall()"
   ]
  },
  {
   "cell_type": "markdown",
   "metadata": {},
   "source": [
    "***\n",
    "<a id=\"prep\"></a>\n",
    "## Preparing files\n",
    "\n",
    "Preparing the files from the downloaded zip. Identifying:\n",
    "* **Membrane-Protein complex atomistic system**: \n",
    "    * *atomistic-system.pdb*\n",
    "* **GROMACS index file**: \n",
    "    * *atomistic-system.ndx*\n",
    "* **Topology files**: \n",
    "    * *topol.top* + auxiliar *\\*.itp* files\n",
    "    * We are generating a **single topology file** compressing all these files into **one single zip** file named *{pdbCode}-top.zip*\n",
    "* **GROMACS Molecular Dynamics Properties (mdp) files**:\n",
    "    * *em.mdp*: Energy minimization mdp file\n",
    "    * *pr.mdp*: Equilibration mdp file\n",
    "    * *100ns.mdp*: Final 100ns MD simulation mdp file"
   ]
  },
  {
   "cell_type": "code",
   "execution_count": null,
   "metadata": {},
   "outputs": [],
   "source": [
    "# Important files\n",
    "pdb = \"atomistic-system.pdb\"\n",
    "top = pdbCode + \"-top.zip\"\n",
    "ndx = \"atomistic-system.ndx\"\n",
    "mdp_em = \"mdp_files/em.mdp\"\n",
    "mdp_pr = \"mdp_files/pr.mdp\"\n",
    "mdp_100ns = \"mdp_files/100ns.mdp\"\n",
    "\n",
    "# Generate TOP zip file\n",
    "zf = zipfile.ZipFile(top, mode='w')\n",
    "\n",
    "for file in os.listdir(os.getcwd()):\n",
    "    if file.endswith(\".top\") or file.endswith(\".itp\") or (file == 'charmm36.ff' and pathlib.Path(file).is_dir()) or (file == 'itp' and pathlib.Path(file).is_dir()):\n",
    "        if not pathlib.Path(file).is_dir():\n",
    "            zf.write(file)\n",
    "        else:\n",
    "            for dirname, subdirs, files in os.walk(file):\n",
    "                for filename in files:\n",
    "                    zf.write(pathlib.PurePosixPath(dirname).joinpath(filename))\n",
    "\n",
    "zf.close()"
   ]
  },
  {
   "cell_type": "markdown",
   "metadata": {},
   "source": [
    "### Visualizing 3D structure\n",
    "\n",
    "Visualizing the **Membrane-Protein complex structure** using **NGL**:"
   ]
  },
  {
   "cell_type": "code",
   "execution_count": null,
   "metadata": {},
   "outputs": [],
   "source": [
    "# Show Membrane Protein\n",
    "view = nglview.show_structure_file(pdb)\n",
    "view.clear_representations()\n",
    "view.add_representation(repr_type='cartoon', selection='solute', color='sstruc')\n",
    "view.add_representation(repr_type='ball+stick', selection='DPPC', color='element', opacity=0.4)\n",
    "view.add_representation(repr_type='line', radius=1, selection='SOL', opacity=0.4)\n",
    "view.add_representation(repr_type='spacefill', radius=1, selection='NA')\n",
    "view.add_representation(repr_type='spacefill', radius=1, selection='CL')\n",
    "view._remote_call('setSize', target='Widget', args=['','600px'])\n",
    "view"
   ]
  },
  {
   "cell_type": "markdown",
   "metadata": {},
   "source": [
    "**Note** that if you are using **Google Chrome** there can be some memory problems visualizing this structure depending on your computer resorces. If you are experiencing this issue we strongly recommend you to open this notebook in **Mozilla Firefox**."
   ]
  },
  {
   "cell_type": "markdown",
   "metadata": {},
   "source": [
    "***\n",
    "<a id=\"min\"></a>\n",
    "## Energetically minimize the system\n",
    "Energetically minimize the **protein system** till reaching a desired potential energy.\n",
    "- [Step 1](#emStep1): Creating portable binary run file for energy minimization\n",
    "- [Step 2](#emStep2): Energetically minimize the **system** till reaching a force of 500 kJ mol-1 nm-1.\n",
    "- [Step 3](#emStep3): Checking **energy minimization** results. Plotting energy by time during the **minimization** process.\n",
    "***\n",
    "**Building Blocks** used:\n",
    " - [Grompp](https://biobb-md.readthedocs.io/en/latest/gromacs.html#module-gromacs.grompp) from **biobb_md.gromacs.grompp** \n",
    " - [Mdrun](https://biobb-md.readthedocs.io/en/latest/gromacs.html#module-gromacs.mdrun) from **biobb_md.gromacs.mdrun** \n",
    " - [GMXEnergy](https://biobb-analysis.readthedocs.io/en/latest/gromacs.html#module-gromacs.gmx_energy) from **biobb_analysis.gromacs.gmx_energy** \n",
    "***"
   ]
  },
  {
   "cell_type": "markdown",
   "metadata": {},
   "source": [
    "<a id=\"emStep1\"></a>\n",
    "### Step 1: Creating portable binary run file for energy minimization\n",
    "The **em.mdp** file (**molecular dynamics parameters (mdp))** contains the MemProtMD default parameters to run an **energy minimization** to the prepared Membrane-Protein complex systems:\n",
    "\n",
    "-  integrator  = steep ; Algorithm (steep = steepest descent minimization)\n",
    "-  emtol       = 1000.0 ; Stop minimization when the maximum force < 1000.0 kJ/mol/nm\n",
    "-  emstep      = 0.001 ; Minimization step size (nm)\n",
    "-  nsteps      = 5000 ; Maximum number of (minimization) steps to perform\n",
    "\n",
    "In this particular example, the method used to run the **energy minimization** is the default **steepest descent**, ¡ the **maximum force** is placed at **1000 KJ/mol\\*nm^2**, and the **maximum number of steps** to perform (if the maximum force is not reached) to **5000 steps**. "
   ]
  },
  {
   "cell_type": "code",
   "execution_count": null,
   "metadata": {},
   "outputs": [],
   "source": [
    "from biobb_md.gromacs.grompp import grompp\n",
    "\n",
    "# executing Grompp in the simulation folder, though the output file will be stored in the WORKDIR\n",
    "# Create prop dict and inputs/outputs\n",
    "output_gppmin_tpr = str(WORKDIR) + \"/\" + pdbCode+'_gppmin.tpr'\n",
    "\n",
    "prop = {\n",
    "    'mdp':{\n",
    "        'emtol':'500',\n",
    "        #'nsteps':'5000'\n",
    "        'nsteps':'500'\n",
    "    },\n",
    "    'simulation_type':'minimization'\n",
    "}\n",
    "\n",
    "# Create and launch bb\n",
    "grompp(input_gro_path=pdb, \n",
    "       input_top_zip_path=top, \n",
    "       #input_mdp_path=mdp_em,\n",
    "       input_ndx_path= ndx,\n",
    "       output_tpr_path=output_gppmin_tpr,  \n",
    "       properties=prop)"
   ]
  },
  {
   "cell_type": "markdown",
   "metadata": {},
   "source": [
    "<a id=\"emStep2\"></a>\n",
    "### Step 2: Running Energy Minimization\n",
    "Running **energy minimization** using the **tpr file** generated in the previous step. "
   ]
  },
  {
   "cell_type": "code",
   "execution_count": null,
   "metadata": {},
   "outputs": [],
   "source": [
    "# Mdrun: Running minimization\n",
    "from biobb_md.gromacs.mdrun import mdrun\n",
    "\n",
    "# execute Mdrun in the WORKDIR\n",
    "os.chdir(WORKDIR)\n",
    "\n",
    "# Create prop dict and inputs/outputs\n",
    "output_min_trr = pdbCode+'_min.trr'\n",
    "output_min_gro = pdbCode+'_min.gro'\n",
    "output_min_edr = pdbCode+'_min.edr'\n",
    "output_min_log = pdbCode+'_min.log'\n",
    "\n",
    "# Create and launch bb\n",
    "mdrun(input_tpr_path=output_gppmin_tpr, \n",
    "      output_trr_path=output_min_trr, \n",
    "      output_gro_path=output_min_gro, \n",
    "      output_edr_path=output_min_edr, \n",
    "      output_log_path=output_min_log)"
   ]
  },
  {
   "cell_type": "markdown",
   "metadata": {},
   "source": [
    "<a id=\"emStep3\"></a>\n",
    "### Step 3: Checking Energy Minimization results\n",
    "Checking **energy minimization** results. Plotting **potential energy** by time during the minimization process. "
   ]
  },
  {
   "cell_type": "code",
   "execution_count": null,
   "metadata": {},
   "outputs": [],
   "source": [
    "# GMXEnergy: Getting system energy by time  \n",
    "from biobb_analysis.gromacs.gmx_energy import gmx_energy\n",
    "\n",
    "# Create prop dict and inputs/outputs\n",
    "output_min_ene_xvg = pdbCode+'_min_ene.xvg'\n",
    "prop = {\n",
    "    'terms':  [\"Potential\"]\n",
    "}\n",
    "\n",
    "# Create and launch bb\n",
    "gmx_energy(input_energy_path=output_min_edr, \n",
    "          output_xvg_path=output_min_ene_xvg, \n",
    "          properties=prop)"
   ]
  },
  {
   "cell_type": "code",
   "execution_count": null,
   "metadata": {},
   "outputs": [],
   "source": [
    "import plotly\n",
    "import plotly.graph_objs as go\n",
    "\n",
    "#Read data from file and filter energy values higher than 1000 Kj/mol^-1\n",
    "with open(output_min_ene_xvg,'r') as energy_file:\n",
    "    x,y = map(\n",
    "        list,\n",
    "        zip(*[\n",
    "            (float(line.split()[0]),float(line.split()[1]))\n",
    "            for line in energy_file \n",
    "            if not line.startswith((\"#\",\"@\")) \n",
    "            if float(line.split()[1]) < 1000 \n",
    "        ])\n",
    "    )\n",
    "\n",
    "plotly.offline.init_notebook_mode(connected=True)\n",
    "\n",
    "fig = {\n",
    "    \"data\": [go.Scatter(x=x, y=y)],\n",
    "    \"layout\": go.Layout(title=\"Energy Minimization\",\n",
    "                        xaxis=dict(title = \"Energy Minimization Step\"),\n",
    "                        yaxis=dict(title = \"Potential Energy KJ/mol-1\")\n",
    "                       )\n",
    "}\n",
    "\n",
    "plotly.offline.iplot(fig)"
   ]
  },
  {
   "cell_type": "markdown",
   "metadata": {},
   "source": [
    "***\n",
    "<a id=\"npt\"></a>\n",
    "## Equilibrate the system (NPT)\n",
    "Equilibrate the **protein system** in **NPT** ensemble (constant Number of particles, Pressure and Temperature).\n",
    "- [Step 1](#eqNPTStep1): Creating portable binary run file for system equilibration\n",
    "- [Step 2](#eqNPTStep2): Equilibrate the **protein system** with **NPT** ensemble.\n",
    "- [Step 3](#eqNPTStep3): Checking **NPT Equilibration** results. Plotting **system pressure and density** by time during the **NPT equilibration** process.\n",
    "***\n",
    "**Building Blocks** used:\n",
    " - [Grompp](https://biobb-md.readthedocs.io/en/latest/gromacs.html#module-gromacs.grompp) from **biobb_md.gromacs.grompp** \n",
    " - [Mdrun](https://biobb-md.readthedocs.io/en/latest/gromacs.html#module-gromacs.mdrun) from **biobb_md.gromacs.mdrun** \n",
    " - [GMXEnergy](https://biobb-analysis.readthedocs.io/en/latest/gromacs.html#module-gromacs.gmx_energy) from **biobb_analysis.gromacs.gmx_energy** \n",
    "***"
   ]
  },
  {
   "cell_type": "markdown",
   "metadata": {},
   "source": [
    "<a id=\"eqNPTStep1\"></a>\n",
    "### Step 1: Creating portable binary run file for system equilibration (NPT)\n",
    "\n",
    "The **pr.mdp** **(molecular dynamics parameters (mdp))** contains the MemProtMD default parameters to run an **NPT equilibration** with **protein restraints** (see [GROMACS mdp options](http://manual.gromacs.org/documentation/2018/user-guide/mdp-options.html)):\n",
    "\n",
    "-  Define                   = -DPOSRES\n",
    "-  integrator               = md\n",
    "-  dt                       = 0.002\n",
    "-  nsteps                   = 500000\n",
    "-  pcoupl = Parrinello-Rahman\n",
    "-  pcoupltype = semiisotropic\n",
    "-  tau_p = 1.0\n",
    "-  ref_p = 1.0 1.0\n",
    "-  compressibility = 4.5e-5 4.5e-5\n",
    "-  gen_vel = yes\n",
    "\n",
    "In this particular example, the MemProtMD parameters will be used: **md** integrator algorithm, a **time step** of **2fs**, **500,000 equilibration steps** with the protein **heavy atoms restrained**, and a Parrinello-Rahman **pressure coupling** algorithm."
   ]
  },
  {
   "cell_type": "code",
   "execution_count": null,
   "metadata": {
    "scrolled": false
   },
   "outputs": [],
   "source": [
    "from biobb_md.gromacs.grompp import grompp\n",
    "\n",
    "# executing Grompp in the simulation folder, though the output file will be stored in the WORKDIR\n",
    "os.chdir(pdbCode)\n",
    "# Create prop dict and inputs/outputs\n",
    "output_gppeq_tpr = str(WORKDIR) + \"/\" + pdbCode+'_gppeq.tpr'\n",
    "\n",
    "prop = {\n",
    "    'mdp':{\n",
    "        'nsteps':'500'\n",
    "        #'nsteps':'5000'\n",
    "    }\n",
    "}\n",
    "\n",
    "# Create and launch bb\n",
    "grompp(input_gro_path= str(pathlib.PurePosixPath(WORKDIR).joinpath(output_min_gro)),\n",
    "       input_top_zip_path=top, \n",
    "       input_mdp_path= mdp_pr,\n",
    "       input_ndx_path= ndx,\n",
    "       output_tpr_path=output_gppeq_tpr,  \n",
    "       properties=prop)"
   ]
  },
  {
   "cell_type": "markdown",
   "metadata": {},
   "source": [
    "<a id=\"eqNPTStep2\"></a>\n",
    "### Step 2: Running NPT equilibration\n",
    "\n",
    "*Please note that because of the simulated time (1ns) and the size of the Membrane-Protein complex, this step may take hours in a usual laptop.*"
   ]
  },
  {
   "cell_type": "code",
   "execution_count": null,
   "metadata": {},
   "outputs": [],
   "source": [
    "# Mdrun: Running Equilibration NPT\n",
    "from biobb_md.gromacs.mdrun import mdrun\n",
    "\n",
    "# execute Mdrun in the WORKDIR\n",
    "os.chdir(WORKDIR)\n",
    "\n",
    "# Create prop dict and inputs/outputs\n",
    "output_eq_trr = pdbCode+'_eq.trr'\n",
    "output_eq_gro = pdbCode+'_eq.gro'\n",
    "output_eq_edr = pdbCode+'_eq.edr'\n",
    "output_eq_log = pdbCode+'_eq.log'\n",
    "output_eq_cpt = pdbCode+'_eq.cpt'\n",
    "\n",
    "# Create and launch bb\n",
    "mdrun(input_tpr_path=output_gppeq_tpr, \n",
    "      output_trr_path=output_eq_trr, \n",
    "      output_gro_path=output_eq_gro, \n",
    "      output_edr_path=output_eq_edr, \n",
    "      output_log_path=output_eq_log, \n",
    "      output_cpt_path=output_eq_cpt)"
   ]
  },
  {
   "cell_type": "markdown",
   "metadata": {},
   "source": [
    "<a id=\"eqNPTStep3\"></a>\n",
    "### Step 3: Checking NPT Equilibration results\n",
    "Checking **NPT Equilibration** results. Plotting **system pressure and density** by time during the **NPT equilibration** process. "
   ]
  },
  {
   "cell_type": "code",
   "execution_count": null,
   "metadata": {},
   "outputs": [],
   "source": [
    "# GMXEnergy: Getting system pressure and density by time during NPT Equilibration  \n",
    "from biobb_analysis.gromacs.gmx_energy import gmx_energy\n",
    "\n",
    "# Create prop dict and inputs/outputs\n",
    "output_npt_pd_xvg = pdbCode+'_npt_PD.xvg'\n",
    "prop = {\n",
    "    'terms':  [\"Pressure\",\"Density\"]\n",
    "}\n",
    "\n",
    "# Create and launch bb\n",
    "gmx_energy(input_energy_path=output_eq_edr, \n",
    "          output_xvg_path=output_npt_pd_xvg, \n",
    "          properties=prop)"
   ]
  },
  {
   "cell_type": "code",
   "execution_count": null,
   "metadata": {},
   "outputs": [],
   "source": [
    "import plotly\n",
    "from plotly import subplots\n",
    "import plotly.graph_objs as go\n",
    "\n",
    "# Read pressure and density data from file \n",
    "with open(output_npt_pd_xvg,'r') as pd_file:\n",
    "    x,y,z = map(\n",
    "        list,\n",
    "        zip(*[\n",
    "            (float(line.split()[0]),float(line.split()[1]),float(line.split()[2]))\n",
    "            for line in pd_file \n",
    "            if not line.startswith((\"#\",\"@\")) \n",
    "        ])\n",
    "    )\n",
    "\n",
    "plotly.offline.init_notebook_mode(connected=True)\n",
    "\n",
    "trace1 = go.Scatter(\n",
    "    x=x,y=y\n",
    ")\n",
    "trace2 = go.Scatter(\n",
    "    x=x,y=z\n",
    ")\n",
    "\n",
    "fig = subplots.make_subplots(rows=1, cols=2, print_grid=False)\n",
    "\n",
    "fig.append_trace(trace1, 1, 1)\n",
    "fig.append_trace(trace2, 1, 2)\n",
    "\n",
    "fig['layout']['xaxis1'].update(title='Time (ps)')\n",
    "fig['layout']['xaxis2'].update(title='Time (ps)')\n",
    "fig['layout']['yaxis1'].update(title='Pressure (bar)')\n",
    "fig['layout']['yaxis2'].update(title='Density (Kg*m^-3)')\n",
    "\n",
    "fig['layout'].update(title='Pressure and Density during NPT Equilibration')\n",
    "fig['layout'].update(showlegend=False)\n",
    "\n",
    "plotly.offline.iplot(fig)"
   ]
  },
  {
   "cell_type": "markdown",
   "metadata": {},
   "source": [
    "***\n",
    "<a id=\"prod\"></a>\n",
    "## Production Molecular Dynamics Simulation\n",
    "Upon completion of the **equilibration phase**, the system is now well-equilibrated at the desired temperature and pressure. The **position restraints** can now be released, and the **production MD** can be started.\n",
    "\n",
    "- [Step 1](#mdStep1): Creating portable binary run file to run a **production MD simulation**.\n",
    "- [Step 2](#mdStep2): Run 100ns MD simulation of the **Membrane-Protein complex system**.\n",
    "- [Step 3](#mdStep3): Checking results for the **production MD simulation**. Plotting **Root Mean Square deviation (RMSd)** and **Radius of Gyration (Rgyr)** by time. \n",
    "***\n",
    "**Building Blocks** used:\n",
    " - [Grompp](https://biobb-md.readthedocs.io/en/latest/gromacs.html#module-gromacs.grompp) from **biobb_md.gromacs.grompp** \n",
    " - [Mdrun](https://biobb-md.readthedocs.io/en/latest/gromacs.html#module-gromacs.mdrun) from **biobb_md.gromacs.mdrun** \n",
    " - [GMXRms](https://biobb-analysis.readthedocs.io/en/latest/gromacs.html#module-gromacs.gmx_rms) from **biobb_analysis.gromacs.gmx_rms** \n",
    " - [GMXRgyr](https://biobb-analysis.readthedocs.io/en/latest/gromacs.html#module-gromacs.gmx_rgyr) from **biobb_analysis.gromacs.gmx_rgyr** \n",
    "***"
   ]
  },
  {
   "cell_type": "markdown",
   "metadata": {},
   "source": [
    "<a id=\"mdStep1\"></a>\n",
    "### Step 1: Creating portable binary run file to run the production MD simulation\n",
    "\n",
    "The **100ns.mdp** **(molecular dynamics parameters (mdp))** contains the MemProtMD default parameters to run the **production MD simulation** (see [GROMACS mdp options](http://manual.gromacs.org/documentation/2018/user-guide/mdp-options.html)):\n",
    "\n",
    "-  integrator               = md\n",
    "-  dt                       = 0.002 (ps)\n",
    "-  nsteps                   = 50000000\n",
    "\n",
    "In this particular example, the MemProtMD default parameters will be used: **md** integrator algorithm, a **time step** of **2fs**, and a total of **5,000,000 MD steps** (100ns)."
   ]
  },
  {
   "cell_type": "code",
   "execution_count": null,
   "metadata": {
    "scrolled": false
   },
   "outputs": [],
   "source": [
    "from biobb_md.gromacs.grompp import grompp\n",
    "\n",
    "# executing Grompp in the simulation folder, though the output file will be stored in the WORKDIR\n",
    "os.chdir(pdbCode)\n",
    "# Create prop dict and inputs/outputs\n",
    "output_gppMD_tpr = str(WORKDIR) + \"/\" + pdbCode+'_gppMD.tpr'\n",
    "\n",
    "# modifying parameters of mdp_100ns\n",
    "prop = {\n",
    "    'mdp':{\n",
    "        'nsteps':'5000',\n",
    "        'nstxout':'500',\n",
    "        'nstvout':'500'\n",
    "    }\n",
    "}\n",
    "\n",
    "# Create and launch bb\n",
    "grompp(input_gro_path=str(pathlib.PurePosixPath(WORKDIR).joinpath(output_eq_gro)), \n",
    "       input_top_zip_path=top, \n",
    "       input_mdp_path= mdp_100ns,\n",
    "       input_ndx_path= ndx,\n",
    "       output_tpr_path=output_gppMD_tpr,  \n",
    "       properties=prop)"
   ]
  },
  {
   "cell_type": "markdown",
   "metadata": {},
   "source": [
    "<a id=\"mdStep2\"></a>\n",
    "### Step 2: Running short free MD simulation\n",
    "\n",
    "**WARNING:** *Please note that because of the simulated time (100ns) and the size of the Membrane-Protein complex, this step may take serveral hours (even days!) in a usual laptop.*"
   ]
  },
  {
   "cell_type": "code",
   "execution_count": null,
   "metadata": {},
   "outputs": [],
   "source": [
    "# Mdrun: Running free dynamics\n",
    "from biobb_md.gromacs.mdrun import mdrun\n",
    "\n",
    "# execute Mdrun in the WORKDIR\n",
    "os.chdir(WORKDIR)\n",
    "\n",
    "# Create prop dict and inputs/outputs\n",
    "output_md_trr = pdbCode+'_md.trr'\n",
    "output_md_gro = pdbCode+'_md.gro'\n",
    "output_md_edr = pdbCode+'_md.edr'\n",
    "output_md_log = pdbCode+'_md.log'\n",
    "output_md_cpt = pdbCode+'_md.cpt'\n",
    "\n",
    "# Create and launch bb\n",
    "mdrun(input_tpr_path=output_gppMD_tpr, \n",
    "      output_trr_path=output_md_trr, \n",
    "      output_gro_path=output_md_gro, \n",
    "      output_edr_path=output_md_edr, \n",
    "      output_log_path=output_md_log, \n",
    "      output_cpt_path=output_md_cpt)"
   ]
  },
  {
   "cell_type": "markdown",
   "metadata": {},
   "source": [
    "<a id=\"mdStep3\"></a>\n",
    "### Step 3: Checking MD simulation results\n",
    "Checking final results. Plotting **Root Mean Square deviation (RMSd)** and **Radius of Gyration (Rgyr)** by time during the **production MD run**. **RMSd** against the **experimental structure** (input structure of the pipeline) and against the **minimized and equilibrated structure** (output structure of the NPT equilibration step)."
   ]
  },
  {
   "cell_type": "code",
   "execution_count": null,
   "metadata": {},
   "outputs": [],
   "source": [
    "# GMXRms: Computing Root Mean Square deviation to analyse structural stability \n",
    "#         RMSd against minimized and equilibrated snapshot (backbone atoms)   \n",
    "\n",
    "from biobb_analysis.gromacs.gmx_rms import gmx_rms\n",
    "\n",
    "# Create prop dict and inputs/outputs\n",
    "output_rms_first = pdbCode+'_rms_first.xvg'\n",
    "prop = {\n",
    "    'selection':  'Backbone',\n",
    "    #'selection': 'non-Water'\n",
    "}\n",
    "\n",
    "# Create and launch bb\n",
    "gmx_rms(input_structure_path=output_gppMD_tpr,\n",
    "         input_traj_path=output_md_trr,\n",
    "         output_xvg_path=output_rms_first, \n",
    "          properties=prop)"
   ]
  },
  {
   "cell_type": "code",
   "execution_count": null,
   "metadata": {},
   "outputs": [],
   "source": [
    "# GMXRms: Computing Root Mean Square deviation to analyse structural stability \n",
    "#         RMSd against experimental structure (backbone atoms)   \n",
    "\n",
    "from biobb_analysis.gromacs.gmx_rms import gmx_rms\n",
    "\n",
    "# Create prop dict and inputs/outputs\n",
    "output_rms_exp = pdbCode+'_rms_exp.xvg'\n",
    "prop = {\n",
    "    'selection':  'Backbone',\n",
    "    #'selection': 'non-Water'\n",
    "}\n",
    "\n",
    "# Create and launch bb\n",
    "gmx_rms(input_structure_path=output_gppmin_tpr,\n",
    "         input_traj_path=output_md_trr,\n",
    "         output_xvg_path=output_rms_exp, \n",
    "          properties=prop)"
   ]
  },
  {
   "cell_type": "code",
   "execution_count": null,
   "metadata": {},
   "outputs": [],
   "source": [
    "import plotly\n",
    "import plotly.graph_objs as go\n",
    "\n",
    "# Read RMS vs first snapshot data from file \n",
    "with open(output_rms_first,'r') as rms_first_file:\n",
    "    x,y = map(\n",
    "        list,\n",
    "        zip(*[\n",
    "            (float(line.split()[0]),float(line.split()[1]))\n",
    "            for line in rms_first_file \n",
    "            if not line.startswith((\"#\",\"@\")) \n",
    "        ])\n",
    "    )\n",
    "\n",
    "# Read RMS vs experimental structure data from file \n",
    "with open(output_rms_exp,'r') as rms_exp_file:\n",
    "    x2,y2 = map(\n",
    "        list,\n",
    "        zip(*[\n",
    "            (float(line.split()[0]),float(line.split()[1]))\n",
    "            for line in rms_exp_file\n",
    "            if not line.startswith((\"#\",\"@\")) \n",
    "        ])\n",
    "    )\n",
    "    \n",
    "trace1 = go.Scatter(\n",
    "    x = x,\n",
    "    y = y,\n",
    "    name = 'RMSd vs first'\n",
    ")\n",
    "\n",
    "trace2 = go.Scatter(\n",
    "    x = x,\n",
    "    y = y2,\n",
    "    name = 'RMSd vs exp'\n",
    ")\n",
    "\n",
    "data = [trace1, trace2]\n",
    "\n",
    "plotly.offline.init_notebook_mode(connected=True)\n",
    "\n",
    "fig = {\n",
    "    \"data\": data,\n",
    "    \"layout\": go.Layout(title=\"RMSd during free MD Simulation\",\n",
    "                        xaxis=dict(title = \"Time (ps)\"),\n",
    "                        yaxis=dict(title = \"RMSd (nm)\")\n",
    "                       )\n",
    "}\n",
    "\n",
    "plotly.offline.iplot(fig)\n"
   ]
  },
  {
   "cell_type": "code",
   "execution_count": null,
   "metadata": {},
   "outputs": [],
   "source": [
    "# GMXRgyr: Computing Radius of Gyration to measure the protein compactness during the free MD simulation \n",
    "\n",
    "from biobb_analysis.gromacs.gmx_rgyr import gmx_rgyr\n",
    "\n",
    "# Create prop dict and inputs/outputs\n",
    "output_rgyr = pdbCode+'_rgyr.xvg'\n",
    "prop = {\n",
    "    'selection':  'Backbone'\n",
    "}\n",
    "\n",
    "# Create and launch bb\n",
    "gmx_rgyr(input_structure_path=output_gppmin_tpr,\n",
    "         input_traj_path=output_md_trr,\n",
    "         output_xvg_path=output_rgyr, \n",
    "          properties=prop)"
   ]
  },
  {
   "cell_type": "markdown",
   "metadata": {},
   "source": [
    "***\n",
    "<a id=\"post\"></a>\n",
    "## Post-processing and Visualizing resulting 3D trajectory\n",
    "Post-processing and Visualizing the **Membrane-Protein complex system resulting trajectory** using **NGL**\n",
    "- [Step 1](#ppStep1): *Imaging* the resulting trajectory, **stripping out water molecules and ions** and **correcting periodicity issues**.\n",
    "- [Step 2](#ppStep2): Generating a *dry* structure, **removing water molecules and ions** from the final snapshot of the MD setup pipeline.\n",
    "- [Step 3](#ppStep3): Visualizing the *imaged* trajectory using the *dry* structure as a **topology**. \n",
    "***\n",
    "**Building Blocks** used:\n",
    " - [GMXImage](https://biobb-analysis.readthedocs.io/en/latest/gromacs.html#module-gromacs.gmx_image) from **biobb_analysis.gromacs.gmx_image** \n",
    " - [GMXTrjConvStr](https://biobb-analysis.readthedocs.io/en/latest/gromacs.html#module-gromacs.gmx_trjconv_str) from **biobb_analysis.gromacs.gmx_trjconv_str** \n",
    "***"
   ]
  },
  {
   "cell_type": "markdown",
   "metadata": {},
   "source": [
    "<a id=\"ppStep1\"></a>\n",
    "### Step 1: *Imaging* the resulting trajectory.\n",
    "Stripping out **water molecules and ions** and **correcting periodicity issues**  "
   ]
  },
  {
   "cell_type": "code",
   "execution_count": null,
   "metadata": {},
   "outputs": [],
   "source": [
    "# GMXImage: \"Imaging\" the resulting trajectory\n",
    "#           Removing water molecules and ions from the resulting structure\n",
    "from biobb_analysis.gromacs.gmx_image import gmx_image\n",
    "\n",
    "# Create prop dict and inputs/outputs\n",
    "output_imaged_traj = pdbCode+'_imaged_traj.trr'\n",
    "prop = {\n",
    "    'center_selection':  'Protein',\n",
    "    'output_selection': 'Protein',\n",
    "    'pbc' : 'mol',\n",
    "    'center' : True\n",
    "}\n",
    "\n",
    "# Create and launch bb\n",
    "gmx_image(input_traj_path=output_md_trr,\n",
    "         input_top_path=output_gppMD_tpr,\n",
    "         output_traj_path=output_imaged_traj, \n",
    "          properties=prop)"
   ]
  },
  {
   "cell_type": "markdown",
   "metadata": {},
   "source": [
    "<a id=\"ppStep2\"></a>\n",
    "### Step 2: Generating the output *dry* structure.\n",
    "**Removing water molecules and ions** from the resulting structure"
   ]
  },
  {
   "cell_type": "code",
   "execution_count": null,
   "metadata": {},
   "outputs": [],
   "source": [
    "# GMXTrjConvStr: Converting and/or manipulating a structure\n",
    "#                Removing water molecules and ions from the resulting structure\n",
    "#                The \"dry\" structure will be used as a topology to visualize \n",
    "#                the \"imaged dry\" trajectory generated in the previous step.\n",
    "from biobb_analysis.gromacs.gmx_trjconv_str import gmx_trjconv_str\n",
    "\n",
    "# Create prop dict and inputs/outputs\n",
    "output_dry_gro = pdbCode+'_md_dry.gro'\n",
    "prop = {\n",
    "    'selection':  'Protein'\n",
    "}\n",
    "\n",
    "# Create and launch bb\n",
    "gmx_trjconv_str(input_structure_path=output_md_gro,\n",
    "         input_top_path=output_gppMD_tpr,\n",
    "         output_str_path=output_dry_gro, \n",
    "          properties=prop)"
   ]
  },
  {
   "cell_type": "markdown",
   "metadata": {},
   "source": [
    "<a id=\"ppStep3\"></a>\n",
    "### Step 3: Visualizing the generated dehydrated trajectory.\n",
    "Using the **imaged trajectory** (output of the [Post-processing step 1](#ppStep1)) with the **dry structure** (output of the [Post-processing step 2](#ppStep2)) as a topology."
   ]
  },
  {
   "cell_type": "code",
   "execution_count": null,
   "metadata": {},
   "outputs": [],
   "source": [
    "# Show trajectory\n",
    "view = nglview.show_simpletraj(nglview.SimpletrajTrajectory(output_imaged_traj, output_dry_gro), gui=True)\n",
    "view"
   ]
  },
  {
   "cell_type": "markdown",
   "metadata": {
    "variables": {
     "output_genion_top_zip": "<p><strong>NameError</strong>: name &#39;output_genion_top_zip&#39; is not defined</p>\n",
     "output_gppmd_tpr": "<p><strong>NameError</strong>: name &#39;output_gppmd_tpr&#39; is not defined</p>\n",
     "output_md_cpt": "<p><strong>NameError</strong>: name &#39;output_md_cpt&#39; is not defined</p>\n",
     "output_md_gro": "<p><strong>NameError</strong>: name &#39;output_md_gro&#39; is not defined</p>\n",
     "output_md_trr": "<p><strong>NameError</strong>: name &#39;output_md_trr&#39; is not defined</p>\n",
     "output_rgyr": "<p><strong>NameError</strong>: name &#39;output_rgyr&#39; is not defined</p>\n",
     "output_rms_exp": "<p><strong>NameError</strong>: name &#39;output_rms_exp&#39; is not defined</p>\n",
     "output_rms_first": "<p><strong>NameError</strong>: name &#39;output_rms_first&#39; is not defined</p>\n"
    }
   },
   "source": [
    "<a id=\"output\"></a>\n",
    "## Output files\n",
    "\n",
    "Important **Output files** generated:\n",
    " - {{output_md_gro}}: **Final structure** (snapshot) of the MD setup protocol.\n",
    " - {{output_md_trr}}: **Final trajectory** of the MD setup protocol.\n",
    " - {{output_md_cpt}}: **Final checkpoint file**, with information about the state of the simulation. It can be used to **restart** or **continue** a MD simulation.\n",
    " - {{output_gppmd_tpr}}: **Final tpr file**, GROMACS portable binary run input file. This file contains the starting structure of the **MD setup free MD simulation step**, together with the molecular topology and all the simulation parameters. It can be used to **extend** the simulation.\n",
    " - {{output_genion_top_zip}}: **Final topology** of the MD system. It is a compressed zip file including a **topology file** (.top) and a set of auxiliar **include topology** files (.itp).\n",
    "\n",
    "**Analysis** (MD setup check) output files generated:\n",
    " - {{output_rms_first}}: **Root Mean Square deviation (RMSd)** against **minimized and equilibrated structure** of the final **free MD run step**.\n",
    " - {{output_rms_exp}}: **Root Mean Square deviation (RMSd)** against **experimental structure** of the final **free MD run step**.\n",
    " - {{output_rgyr}}: **Radius of Gyration** of the final **free MD run step** of the **setup pipeline**."
   ]
  },
  {
   "cell_type": "markdown",
   "metadata": {},
   "source": [
    "***\n",
    "<a id=\"questions\"></a>\n",
    "\n",
    "## Questions & Comments\n",
    "\n",
    "Questions, issues, suggestions and comments are really welcome!\n",
    "\n",
    "* GitHub issues:\n",
    "    * [https://github.com/bioexcel/biobb](https://github.com/bioexcel/biobb)\n",
    "\n",
    "* BioExcel forum:\n",
    "    * [https://ask.bioexcel.eu/c/BioExcel-Building-Blocks-library](https://ask.bioexcel.eu/c/BioExcel-Building-Blocks-library)\n"
   ]
  }
 ],
 "metadata": {
  "kernelspec": {
   "display_name": "Python 3",
   "language": "python",
   "name": "python3"
  },
  "language_info": {
   "codemirror_mode": {
    "name": "ipython",
    "version": 3
   },
   "file_extension": ".py",
   "mimetype": "text/x-python",
   "name": "python",
   "nbconvert_exporter": "python",
   "pygments_lexer": "ipython3",
   "version": "3.7.6"
  }
 },
 "nbformat": 4,
 "nbformat_minor": 4
}
